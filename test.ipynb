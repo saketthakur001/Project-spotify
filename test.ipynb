{
 "cells": [
  {
   "cell_type": "code",
   "execution_count": 58,
   "metadata": {},
   "outputs": [
    {
     "ename": "TypeError",
     "evalue": "the JSON object must be str, bytes or bytearray, not dict",
     "output_type": "error",
     "traceback": [
      "\u001b[1;31m---------------------------------------------------------------------------\u001b[0m",
      "\u001b[1;31mTypeError\u001b[0m                                 Traceback (most recent call last)",
      "\u001b[1;32mc:\\Users\\saket\\Documents\\GitHub\\Pyhton\\Project Music\\spotify api\\test.ipynb Cell 1\u001b[0m in \u001b[0;36m<cell line: 14>\u001b[1;34m()\u001b[0m\n\u001b[0;32m     <a href='vscode-notebook-cell:/c%3A/Users/saket/Documents/GitHub/Pyhton/Project%20Music/spotify%20api/test.ipynb#W3sZmlsZQ%3D%3D?line=11'>12</a>\u001b[0m friends_activity_json \u001b[39m=\u001b[39m main\u001b[39m.\u001b[39mget_friends_activity_json()\n\u001b[0;32m     <a href='vscode-notebook-cell:/c%3A/Users/saket/Documents/GitHub/Pyhton/Project%20Music/spotify%20api/test.ipynb#W3sZmlsZQ%3D%3D?line=12'>13</a>\u001b[0m \u001b[39m# conver the friends activity json to a json object\u001b[39;00m\n\u001b[1;32m---> <a href='vscode-notebook-cell:/c%3A/Users/saket/Documents/GitHub/Pyhton/Project%20Music/spotify%20api/test.ipynb#W3sZmlsZQ%3D%3D?line=13'>14</a>\u001b[0m friends_activity_json \u001b[39m=\u001b[39m json\u001b[39m.\u001b[39;49mloads(friends_activity_json)\n\u001b[0;32m     <a href='vscode-notebook-cell:/c%3A/Users/saket/Documents/GitHub/Pyhton/Project%20Music/spotify%20api/test.ipynb#W3sZmlsZQ%3D%3D?line=15'>16</a>\u001b[0m \u001b[39m# Create a SQLite database file.\u001b[39;00m\n\u001b[0;32m     <a href='vscode-notebook-cell:/c%3A/Users/saket/Documents/GitHub/Pyhton/Project%20Music/spotify%20api/test.ipynb#W3sZmlsZQ%3D%3D?line=16'>17</a>\u001b[0m conn \u001b[39m=\u001b[39m sqlite3\u001b[39m.\u001b[39mconnect(\u001b[39m'\u001b[39m\u001b[39mfriends_activity.sqlite\u001b[39m\u001b[39m'\u001b[39m)\n",
      "File \u001b[1;32mc:\\Users\\saket\\anaconda3\\lib\\json\\__init__.py:339\u001b[0m, in \u001b[0;36mloads\u001b[1;34m(s, cls, object_hook, parse_float, parse_int, parse_constant, object_pairs_hook, **kw)\u001b[0m\n\u001b[0;32m    337\u001b[0m \u001b[39melse\u001b[39;00m:\n\u001b[0;32m    338\u001b[0m     \u001b[39mif\u001b[39;00m \u001b[39mnot\u001b[39;00m \u001b[39misinstance\u001b[39m(s, (\u001b[39mbytes\u001b[39m, \u001b[39mbytearray\u001b[39m)):\n\u001b[1;32m--> 339\u001b[0m         \u001b[39mraise\u001b[39;00m \u001b[39mTypeError\u001b[39;00m(\u001b[39mf\u001b[39m\u001b[39m'\u001b[39m\u001b[39mthe JSON object must be str, bytes or bytearray, \u001b[39m\u001b[39m'\u001b[39m\n\u001b[0;32m    340\u001b[0m                         \u001b[39mf\u001b[39m\u001b[39m'\u001b[39m\u001b[39mnot \u001b[39m\u001b[39m{\u001b[39;00ms\u001b[39m.\u001b[39m\u001b[39m__class__\u001b[39m\u001b[39m.\u001b[39m\u001b[39m__name__\u001b[39m\u001b[39m}\u001b[39;00m\u001b[39m'\u001b[39m)\n\u001b[0;32m    341\u001b[0m     s \u001b[39m=\u001b[39m s\u001b[39m.\u001b[39mdecode(detect_encoding(s), \u001b[39m'\u001b[39m\u001b[39msurrogatepass\u001b[39m\u001b[39m'\u001b[39m)\n\u001b[0;32m    343\u001b[0m \u001b[39mif\u001b[39;00m (\u001b[39mcls\u001b[39m \u001b[39mis\u001b[39;00m \u001b[39mNone\u001b[39;00m \u001b[39mand\u001b[39;00m object_hook \u001b[39mis\u001b[39;00m \u001b[39mNone\u001b[39;00m \u001b[39mand\u001b[39;00m\n\u001b[0;32m    344\u001b[0m         parse_int \u001b[39mis\u001b[39;00m \u001b[39mNone\u001b[39;00m \u001b[39mand\u001b[39;00m parse_float \u001b[39mis\u001b[39;00m \u001b[39mNone\u001b[39;00m \u001b[39mand\u001b[39;00m\n\u001b[0;32m    345\u001b[0m         parse_constant \u001b[39mis\u001b[39;00m \u001b[39mNone\u001b[39;00m \u001b[39mand\u001b[39;00m object_pairs_hook \u001b[39mis\u001b[39;00m \u001b[39mNone\u001b[39;00m \u001b[39mand\u001b[39;00m \u001b[39mnot\u001b[39;00m kw):\n",
      "\u001b[1;31mTypeError\u001b[0m: the JSON object must be str, bytes or bytearray, not dict"
     ]
    }
   ],
   "source": [
    "from datetime import datetime\n",
    "import time\n",
    "import sqlite3\n",
    "import main\n",
    "import json\n",
    "\n",
    "# milliseconds to datetime\n",
    "def milliseconds_to_datetime(milliseconds):\n",
    "    return datetime.fromtimestamp(milliseconds / 1000.0)\n",
    "\n",
    "# get the friends activity json from the main.py\n",
    "friends_activity_json = main.get_friends_activity_json()\n",
    "# conver the friends activity json to a json object\n",
    "friends_activity_json = json.loads(friends_activity_json)\n",
    "\n",
    "# Create a SQLite database file.\n",
    "conn = sqlite3.connect('friends_activity.sqlite')\n",
    "\n",
    "# Connect to the SQLite database.\n",
    "cur = conn.cursor()\n",
    "\n",
    "# Check if the table exists.\n",
    "cur.execute('''\n",
    "        SELECT name\n",
    "        FROM sqlite_master\n",
    "        WHERE type = 'table'\n",
    "        AND name = 'friends_activity'\n",
    "        ''')\n",
    "\n",
    "# Store the result of fetchone() in a variable.\n",
    "result = cur.fetchone()\n",
    "\n",
    "# If the result is None, create the table.\n",
    "if result is None:\n",
    "  print('Creating table...')\n",
    "  cur.execute('''\n",
    "        CREATE TABLE friends_activity (\n",
    "          timestamp INTEGER,\n",
    "          user_uri TEXT,\n",
    "          user_name TEXT,\n",
    "          user_imageUrl TEXT,\n",
    "          track_uri TEXT,\n",
    "          track_name TEXT,\n",
    "          track_imageUrl TEXT,\n",
    "          track_album_uri TEXT,\n",
    "          track_album_name TEXT,\n",
    "          track_artist_uri TEXT,\n",
    "          track_artist_name TEXT,\n",
    "          track_context_uri TEXT,\n",
    "          track_context_name TEXT,\n",
    "          track_context_index INTEGER\n",
    "        )\n",
    "        ''')\n",
    "\n",
    "current_time = time.strftime(\"%Y-%m-%d %H:%M:%S\", time.localtime())\n",
    "\n",
    "# fetch result from the database\n",
    "# result = cur.execute('''SELECT * FROM friends_activity''')\n",
    "result = cur.fetchall()\n",
    "\n",
    "\n",
    "# print the result\n",
    "for row in result:\n",
    "    print(row)\n",
    "\n",
    "\n",
    "# Insert the data into the table.\n",
    "for friend in friends_activity_json['friends']:\n",
    "  cur.execute('''\n",
    "  INSERT INTO friends_activity (timestamp, user_uri, user_name, user_imageUrl, track_uri, track_name, track_imageUrl, track_album_uri, track_album_name, track_artist_uri, track_artist_name, track_context_uri, track_context_name, track_context_index)\n",
    "  VALUES (?,  ?,  ?,  ?,  ?,  ?,  ?,  ?,  ?,  ?,  ?,  ?,  ?,  ?)\n",
    "  ''', (friend['timestamp'],\n",
    "        friend['user']['uri'],\n",
    "        friend['user']['name'],\n",
    "        friend['user']['imageUrl'],\n",
    "        friend['track']['uri'],\n",
    "        friend['track']['name'],\n",
    "        friend['track']['imageUrl'],\n",
    "        friend['track']['album']['uri'],\n",
    "        friend['track']['album']['name'],\n",
    "        friend['track']['artist']['uri'],\n",
    "        friend['track']['artist']['name'],\n",
    "        friend['track']['context']['uri'],\n",
    "        friend['track']['context']['name'],\n",
    "        friend['track']['context']['index']\n",
    "        ))\n",
    "\n",
    "\n",
    "\n",
    "# Close the connection to the SQLite database.\n",
    "# conn.close()"
   ]
  },
  {
   "cell_type": "code",
   "execution_count": 63,
   "metadata": {},
   "outputs": [
    {
     "name": "stdout",
     "output_type": "stream",
     "text": [
      "1682483063316\n",
      "spotify:user:compton182\n",
      "ARTV\n",
      "https://i.scdn.co/image/ab67757000003b82c37f6298191d13be6ed2d158\n",
      "spotify:track:0h0A93X0cOihhnuOv6EPtF\n",
      "Runner’s High\n",
      "http://i.scdn.co/image/ab67616d0000b273bb5a3de97d548a649cfafe67\n",
      "spotify:album:4ndTvTrNwgUfRw4g1R2B4l\n",
      "MUNA\n",
      "spotify:artist:6xdRb2GypJ7DqnWAI2mHGn\n",
      "MUNA\n"
     ]
    }
   ],
   "source": [
    "data = (friend['timestamp'],\n",
    "        friend['user']['uri'],\n",
    "        friend['user']['name'],\n",
    "        friend['user']['imageUrl'],\n",
    "        friend['track']['uri'],\n",
    "        friend['track']['name'],\n",
    "        friend['track']['imageUrl'],\n",
    "        friend['track']['album']['uri'],\n",
    "        friend['track']['album']['name'],\n",
    "        friend['track']['artist']['uri'],\n",
    "        friend['track']['artist']['name']\n",
    ")\n",
    "\n",
    "for i in data:\n",
    "  print(i)"
   ]
  },
  {
   "cell_type": "code",
   "execution_count": 26,
   "metadata": {},
   "outputs": [
    {
     "data": {
      "text/plain": [
       "<sqlite3.Cursor at 0x1fe285fae30>"
      ]
     },
     "execution_count": 26,
     "metadata": {},
     "output_type": "execute_result"
    }
   ],
   "source": []
  }
 ],
 "metadata": {
  "kernelspec": {
   "display_name": "base",
   "language": "python",
   "name": "python3"
  },
  "language_info": {
   "codemirror_mode": {
    "name": "ipython",
    "version": 3
   },
   "file_extension": ".py",
   "mimetype": "text/x-python",
   "name": "python",
   "nbconvert_exporter": "python",
   "pygments_lexer": "ipython3",
   "version": "3.9.12"
  },
  "orig_nbformat": 4
 },
 "nbformat": 4,
 "nbformat_minor": 2
}
