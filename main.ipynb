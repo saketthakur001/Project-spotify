{
 "cells": [
  {
   "cell_type": "code",
   "execution_count": 49,
   "metadata": {},
   "outputs": [],
   "source": []
  },
  {
   "cell_type": "code",
   "execution_count": 116,
   "metadata": {},
   "outputs": [],
   "source": [
    "\n"
   ]
  },
  {
   "cell_type": "markdown",
   "metadata": {},
   "source": []
  },
  {
   "cell_type": "code",
   "execution_count": 112,
   "metadata": {},
   "outputs": [
    {
     "name": "stdout",
     "output_type": "stream",
     "text": [
      "the_strokes\n"
     ]
    }
   ],
   "source": []
  },
  {
   "cell_type": "markdown",
   "metadata": {},
   "source": []
  },
  {
   "cell_type": "code",
   "execution_count": 117,
   "metadata": {},
   "outputs": [],
   "source": [
    "\n"
   ]
  },
  {
   "cell_type": "markdown",
   "metadata": {},
   "source": []
  },
  {
   "cell_type": "code",
   "execution_count": 107,
   "metadata": {},
   "outputs": [
    {
     "data": {
      "text/plain": [
       "{'genre': None, 'gather': None, 'artist': 'the_strokes'}"
      ]
     },
     "execution_count": 107,
     "metadata": {},
     "output_type": "execute_result"
    }
   ],
   "source": [
    "gather_functions('artist-the strokes')"
   ]
  },
  {
   "cell_type": "code",
   "execution_count": 125,
   "metadata": {},
   "outputs": [
    {
     "data": {
      "text/plain": [
       "{'06baNHXoFp1H7XnwWk2bBS': {'artist': ['swans', 'the strokes']}}"
      ]
     },
     "execution_count": 125,
     "metadata": {},
     "output_type": "execute_result"
    }
   ],
   "source": []
  },
  {
   "cell_type": "code",
   "execution_count": 130,
   "metadata": {},
   "outputs": [
    {
     "ename": "NameError",
     "evalue": "name 'add_songs_to_playlist' is not defined",
     "output_type": "error",
     "traceback": [
      "\u001b[1;31m---------------------------------------------------------------------------\u001b[0m",
      "\u001b[1;31mNameError\u001b[0m                                 Traceback (most recent call last)",
      "\u001b[1;32mc:\\Users\\saket\\Documents\\GitHub\\Pyhton\\Project Music\\spotify api\\main.ipynb Cell 8\u001b[0m in \u001b[0;36m<cell line: 16>\u001b[1;34m()\u001b[0m\n\u001b[0;32m     <a href='vscode-notebook-cell:/c%3A/Users/saket/Documents/GitHub/Pyhton/Project%20Music/spotify%20api/main.ipynb#X54sZmlsZQ%3D%3D?line=11'>12</a>\u001b[0m                 \u001b[39mif\u001b[39;00m \u001b[39m'\u001b[39m\u001b[39mgather\u001b[39m\u001b[39m'\u001b[39m \u001b[39mnot\u001b[39;00m \u001b[39min\u001b[39;00m function_data:\n\u001b[0;32m     <a href='vscode-notebook-cell:/c%3A/Users/saket/Documents/GitHub/Pyhton/Project%20Music/spotify%20api/main.ipynb#X54sZmlsZQ%3D%3D?line=12'>13</a>\u001b[0m                     \u001b[39m# add all the songs from the artist to the playlist\u001b[39;00m\n\u001b[0;32m     <a href='vscode-notebook-cell:/c%3A/Users/saket/Documents/GitHub/Pyhton/Project%20Music/spotify%20api/main.ipynb#X54sZmlsZQ%3D%3D?line=13'>14</a>\u001b[0m                     add_songs_to_playlist(playlist_id, artist)\n\u001b[1;32m---> <a href='vscode-notebook-cell:/c%3A/Users/saket/Documents/GitHub/Pyhton/Project%20Music/spotify%20api/main.ipynb#X54sZmlsZQ%3D%3D?line=15'>16</a>\u001b[0m execute_function()\n",
      "\u001b[1;32mc:\\Users\\saket\\Documents\\GitHub\\Pyhton\\Project Music\\spotify api\\main.ipynb Cell 8\u001b[0m in \u001b[0;36mexecute_function\u001b[1;34m()\u001b[0m\n\u001b[0;32m     <a href='vscode-notebook-cell:/c%3A/Users/saket/Documents/GitHub/Pyhton/Project%20Music/spotify%20api/main.ipynb#X54sZmlsZQ%3D%3D?line=10'>11</a>\u001b[0m \u001b[39mfor\u001b[39;00m artist \u001b[39min\u001b[39;00m function_data[\u001b[39m'\u001b[39m\u001b[39martist\u001b[39m\u001b[39m'\u001b[39m]:\n\u001b[0;32m     <a href='vscode-notebook-cell:/c%3A/Users/saket/Documents/GitHub/Pyhton/Project%20Music/spotify%20api/main.ipynb#X54sZmlsZQ%3D%3D?line=11'>12</a>\u001b[0m     \u001b[39mif\u001b[39;00m \u001b[39m'\u001b[39m\u001b[39mgather\u001b[39m\u001b[39m'\u001b[39m \u001b[39mnot\u001b[39;00m \u001b[39min\u001b[39;00m function_data:\n\u001b[0;32m     <a href='vscode-notebook-cell:/c%3A/Users/saket/Documents/GitHub/Pyhton/Project%20Music/spotify%20api/main.ipynb#X54sZmlsZQ%3D%3D?line=12'>13</a>\u001b[0m         \u001b[39m# add all the songs from the artist to the playlist\u001b[39;00m\n\u001b[1;32m---> <a href='vscode-notebook-cell:/c%3A/Users/saket/Documents/GitHub/Pyhton/Project%20Music/spotify%20api/main.ipynb#X54sZmlsZQ%3D%3D?line=13'>14</a>\u001b[0m         add_songs_to_playlist(playlist_id, artist)\n",
      "\u001b[1;31mNameError\u001b[0m: name 'add_songs_to_playlist' is not defined"
     ]
    }
   ],
   "source": [
    "# execute the function from the playlist\n",
    "def execute_function():\n",
    "    # get playlists with functions\n",
    "    playlists_with_functions = get_playlists_with_functions()\n",
    "    # iterate through the playlists_with_functions\n",
    "    for playlist_id, function_data in playlists_with_functions.items():\n",
    "        # iterate through the function_data\n",
    "        # for key as aritst\n",
    "        if 'artist' in function_data:\n",
    "            # iterate through the values\n",
    "            for artist in function_data['artist']:\n",
    "                if 'gather' not in function_data:\n",
    "                    # add all the songs from the artist to the playlist\n",
    "                    add_songs_to_playlist(playlist_id, artist)\n",
    "\n",
    "execute_function()"
   ]
  },
  {
   "cell_type": "code",
   "execution_count": 45,
   "metadata": {},
   "outputs": [
    {
     "name": "stdout",
     "output_type": "stream",
     "text": [
      "['artist-swans', 'genre-hip']\n"
     ]
    }
   ],
   "source": [
    "\n",
    "def find_function(name_of_the_playlist):\n",
    "    functions = []\n",
    "    multiFunctions = []\n",
    "    for i in re.findall(r'\\w+-\\w+', name_of_the_playlist):\n",
    "        multiFunctions.append(i)\n",
    "    print(multiFunctions)\n",
    "\n",
    "find_function(\"artist-swans -all  genre-hip-hop\")\n",
    "\n"
   ]
  },
  {
   "cell_type": "code",
   "execution_count": 31,
   "metadata": {},
   "outputs": [
    {
     "name": "stdout",
     "output_type": "stream",
     "text": [
      "['artist-swans']\n"
     ]
    }
   ],
   "source": [
    "words = 'hey artist-swans -all'\n",
    "# use re to get the words that has a dash between them\n",
    "words = \n",
    "print(words)"
   ]
  },
  {
   "cell_type": "code",
   "execution_count": 20,
   "metadata": {},
   "outputs": [
    {
     "data": {
      "text/html": [
       "<div>\n",
       "<style scoped>\n",
       "    .dataframe tbody tr th:only-of-type {\n",
       "        vertical-align: middle;\n",
       "    }\n",
       "\n",
       "    .dataframe tbody tr th {\n",
       "        vertical-align: top;\n",
       "    }\n",
       "\n",
       "    .dataframe thead th {\n",
       "        text-align: right;\n",
       "    }\n",
       "</style>\n",
       "<table border=\"1\" class=\"dataframe\">\n",
       "  <thead>\n",
       "    <tr style=\"text-align: right;\">\n",
       "      <th></th>\n",
       "      <th>playlist_name</th>\n",
       "      <th>playlist_id</th>\n",
       "      <th>playlist_description</th>\n",
       "      <th>playlist_tracks</th>\n",
       "      <th>playlist_owner</th>\n",
       "      <th>playlist_owner_id</th>\n",
       "      <th>playlist_public</th>\n",
       "      <th>playlist_collaborative</th>\n",
       "      <th>playlist_images</th>\n",
       "      <th>date</th>\n",
       "    </tr>\n",
       "  </thead>\n",
       "  <tbody>\n",
       "    <tr>\n",
       "      <th>0</th>\n",
       "      <td>Human Sadness Radio</td>\n",
       "      <td>37i9dQZF1E8JhGUxJHmvnq</td>\n",
       "      <td></td>\n",
       "      <td>50</td>\n",
       "      <td>Spotify</td>\n",
       "      <td>spotify</td>\n",
       "      <td>False</td>\n",
       "      <td>False</td>\n",
       "      <td>https://seeded-session-images.scdn.co/v1/img/t...</td>\n",
       "      <td>2023-03-26 16:10:34.986707</td>\n",
       "    </tr>\n",
       "    <tr>\n",
       "      <th>1</th>\n",
       "      <td>Poorvi + Saket</td>\n",
       "      <td>37i9dQZF1EJLsvVumBJwJe</td>\n",
       "      <td>A blend of music for Saket and Poorvi. Updates...</td>\n",
       "      <td>50</td>\n",
       "      <td>Spotify</td>\n",
       "      <td>spotify</td>\n",
       "      <td>False</td>\n",
       "      <td>False</td>\n",
       "      <td>https://blend-playlist-covers.spotifycdn.com/v...</td>\n",
       "      <td>2023-03-26 16:10:34.986707</td>\n",
       "    </tr>\n",
       "    <tr>\n",
       "      <th>2</th>\n",
       "      <td>Best of Radiohead</td>\n",
       "      <td>7sb69mB0VFyz4t1PwkFGMC</td>\n",
       "      <td></td>\n",
       "      <td>13</td>\n",
       "      <td>Saket</td>\n",
       "      <td>rt47etgc6xpwhhhb8575rth83</td>\n",
       "      <td>True</td>\n",
       "      <td>False</td>\n",
       "      <td>https://mosaic.scdn.co/640/ab67616d0000b2736c7...</td>\n",
       "      <td>2023-03-26 16:10:34.986707</td>\n",
       "    </tr>\n",
       "    <tr>\n",
       "      <th>3</th>\n",
       "      <td>You and me 🌈🌼🌸</td>\n",
       "      <td>6wM3aS0HC00gw7R8XhzbO5</td>\n",
       "      <td></td>\n",
       "      <td>308</td>\n",
       "      <td>Poorvi</td>\n",
       "      <td>l57o12u24498uhn083lff5vy3</td>\n",
       "      <td>False</td>\n",
       "      <td>False</td>\n",
       "      <td>https://mosaic.scdn.co/640/ab67616d0000b27350d...</td>\n",
       "      <td>2023-03-26 16:10:34.986707</td>\n",
       "    </tr>\n",
       "  </tbody>\n",
       "</table>\n",
       "</div>"
      ],
      "text/plain": [
       "         playlist_name             playlist_id  \\\n",
       "0  Human Sadness Radio  37i9dQZF1E8JhGUxJHmvnq   \n",
       "1       Poorvi + Saket  37i9dQZF1EJLsvVumBJwJe   \n",
       "2    Best of Radiohead  7sb69mB0VFyz4t1PwkFGMC   \n",
       "3       You and me 🌈🌼🌸  6wM3aS0HC00gw7R8XhzbO5   \n",
       "\n",
       "                                playlist_description  playlist_tracks  \\\n",
       "0                                                                  50   \n",
       "1  A blend of music for Saket and Poorvi. Updates...               50   \n",
       "2                                                                  13   \n",
       "3                                                                 308   \n",
       "\n",
       "  playlist_owner          playlist_owner_id  playlist_public  \\\n",
       "0        Spotify                    spotify            False   \n",
       "1        Spotify                    spotify            False   \n",
       "2          Saket  rt47etgc6xpwhhhb8575rth83             True   \n",
       "3         Poorvi  l57o12u24498uhn083lff5vy3            False   \n",
       "\n",
       "   playlist_collaborative                                    playlist_images  \\\n",
       "0                   False  https://seeded-session-images.scdn.co/v1/img/t...   \n",
       "1                   False  https://blend-playlist-covers.spotifycdn.com/v...   \n",
       "2                   False  https://mosaic.scdn.co/640/ab67616d0000b2736c7...   \n",
       "3                   False  https://mosaic.scdn.co/640/ab67616d0000b27350d...   \n",
       "\n",
       "                        date  \n",
       "0 2023-03-26 16:10:34.986707  \n",
       "1 2023-03-26 16:10:34.986707  \n",
       "2 2023-03-26 16:10:34.986707  \n",
       "3 2023-03-26 16:10:34.986707  "
      ]
     },
     "execution_count": 20,
     "metadata": {},
     "output_type": "execute_result"
    }
   ],
   "source": [
    "\"\"\" Uesr can add commands in the playlist name or in the playlist discription, this function\n",
    "searches for the all the possible commands and returns a list of the commands \"\"\"\n",
    "def get_commands(dataframe):\n",
    "    # get the playlist name and description\n",
    "    playlist_name = dataframe['playlist_name']\n",
    "    playlist_description = dataframe['playlist_description']\n",
    "    # List of commands to arrange the playlists\n",
    "    rearrange = {   'most played' : [\"top\", \"most played\", \"top played\"],\n",
    "                    'least played' : [\"least played\"],\n",
    "                    'most recently played' : [\"most recently played\", \"most recent\", \"recently played\", \"recent\"],\n",
    "                    'recently played' : [\"recently played\", \"recent\", \"last played\"],\n",
    "                 }\n",
    "    # command meaning\n",
    "    key_meaning = { 'artist' : ['artist', 'a'],\n",
    "            'album' : ['album', 'al'],\n",
    "            'song' : ['song', 's'],\n",
    "            'playlist' : ['playlist', 'p'],\n",
    "            'genre' : ['genre', 'g'],\n",
    "            'find' : ['find', 'f', 'search', 's'],\n",
    "            'generate' : ['generate', 'g'],\n",
    "    }\n",
    "    # create a list of the commands that are in the playlist name\n",
    "    name_commands = []\n",
    "    # create a list of the commands that are in the playlist description\n",
    "    description_commands = []\n",
    "\n",
    "# arrage the songs that were played \n",
    "# def arrange_top_played(playlist_id, days=50):\n"
   ]
  },
  {
   "cell_type": "code",
   "execution_count": 29,
   "metadata": {},
   "outputs": [],
   "source": [
    "import requests\n",
    "import json\n",
    "\n",
    "# Set the target word and the context\n",
    "word = \"apple\"\n",
    "context = \"general\"\n",
    "\n",
    "# Set the Owl API endpoint\n",
    "url = \"https://owlapi.herokuapp.com/api/v1/similar\"\n",
    "\n",
    "# Set the parameters for the request\n",
    "params = {\n",
    "    \"word\": word,\n",
    "    \"context\": context\n",
    "}\n",
    "\n",
    "# Send a GET request to the Owl API\n",
    "response = requests.get(url, params=params)\n",
    "\n",
    "# Parse the JSON response\n",
    "data = response.json()\n",
    "\n",
    "# Print the most similar words\n",
    "print(\"The most similar words to\", word, \"in\", context, \"context are:\")\n",
    "for item in data[\"similar_words\"]:\n",
    "    print(item[\"word\"], \"-\", item[\"similarity\"])"
   ]
  },
  {
   "cell_type": "code",
   "execution_count": 69,
   "metadata": {},
   "outputs": [],
   "source": [
    "\n",
    "# # a functions that finds what difference were made in the new dataframe and the old one\n",
    "# def find_difference(new_df, old_df):\n",
    "    \n"
   ]
  },
  {
   "cell_type": "code",
   "execution_count": null,
   "metadata": {},
   "outputs": [],
   "source": []
  },
  {
   "cell_type": "code",
   "execution_count": null,
   "metadata": {},
   "outputs": [],
   "source": [
    "\n",
    "\n",
    "# returns a list of dictionaries containing the user's playlists information\n",
    "    # def get_user_playlists_info():\n",
    "    #     user_playlists = get_user_playlists()\n",
    "    #     user_playlists_info = []\n",
    "    #     for i in range(len(user_playlists['items'])):\n",
    "    #         playlist = user_playlists['items'][i]\n",
    "    #         playlist_info = {\n",
    "    #             'playlist_name': playlist['name'],\n",
    "    #             'playlist_id': playlist['id'],\n",
    "    #             'playlist_description': playlist['description'],\n",
    "    #             'playlist_tracks': playlist['tracks']['total'],\n",
    "    #             'playlist_owner': playlist['owner']['display_name'],\n",
    "    #             'playlist_owner_id': playlist['owner']['id'],\n",
    "    #             'playlist_public': playlist['public'],\n",
    "    #             'playlist_collaborative': playlist['collaborative'],\n",
    "    #             'playlist_images': playlist['images'][0]['url']\n",
    "    #         }\n",
    "    #         user_playlists_info.append(playlist_info)\n",
    "    #     return user_playlists_info\n",
    "\n",
    "# stores the user's playlists in a csv file\n"
   ]
  },
  {
   "cell_type": "code",
   "execution_count": null,
   "metadata": {},
   "outputs": [],
   "source": []
  },
  {
   "cell_type": "code",
   "execution_count": 46,
   "metadata": {},
   "outputs": [],
   "source": [
    "tracks_info = get_recommendations_info([\"79S80ZWgVhIPMCHuvl6SkA\"], [\"post-rock\"], [\"05JqOBN6XW4eFUVQlgR0I3\"])\n"
   ]
  },
  {
   "cell_type": "code",
   "execution_count": null,
   "metadata": {},
   "outputs": [],
   "source": [
    "\n",
    "# playlist-read-collaborative: Include collaborative playlists when requesting a user’s playlists1.\n",
    "# playlist-modify-public: Write access to a user’s public playlists1.\n",
    "# playlist-modify-private: Write access to a user’s private playlists1.\n"
   ]
  },
  {
   "cell_type": "code",
   "execution_count": 12,
   "metadata": {},
   "outputs": [],
   "source": []
  },
  {
   "cell_type": "code",
   "execution_count": 13,
   "metadata": {},
   "outputs": [],
   "source": [
    "# dictionaries containing the user's playlists information\n",
    "library_tracks_info = get_library_info(limit=50)"
   ]
  },
  {
   "cell_type": "code",
   "execution_count": 18,
   "metadata": {},
   "outputs": [],
   "source": [
    "# get all the user's playlists\n",
    "user_playlists = get_user_playlists_info()"
   ]
  },
  {
   "cell_type": "code",
   "execution_count": null,
   "metadata": {},
   "outputs": [],
   "source": []
  },
  {
   "cell_type": "code",
   "execution_count": 8,
   "metadata": {},
   "outputs": [
    {
     "name": "stdout",
     "output_type": "stream",
     "text": [
      "href\n",
      "items\n",
      "limit\n",
      "next\n",
      "offset\n",
      "previous\n",
      "total\n"
     ]
    }
   ],
   "source": []
  },
  {
   "cell_type": "code",
   "execution_count": 49,
   "metadata": {},
   "outputs": [
    {
     "name": "stdout",
     "output_type": "stream",
     "text": [
      "album\n",
      "artists\n",
      "available_markets\n",
      "disc_number\n",
      "duration_ms\n",
      "explicit\n",
      "external_ids\n",
      "external_urls\n",
      "href\n",
      "id\n",
      "is_local\n",
      "name\n",
      "popularity\n",
      "preview_url\n",
      "track_number\n",
      "type\n",
      "uri\n"
     ]
    }
   ],
   "source": [
    "# iterate through the first track from tracks_info and print all the keys\n",
    "for key in tracks_info[0]:\n",
    "    print(key)\n",
    "    \n"
   ]
  },
  {
   "cell_type": "code",
   "execution_count": 4,
   "metadata": {},
   "outputs": [],
   "source": [
    "\n",
    "# store the recently played tracks\n",
    "store_recently_played_tracks()\n",
    "\n",
    "\n"
   ]
  },
  {
   "cell_type": "code",
   "execution_count": 20,
   "metadata": {},
   "outputs": [
    {
     "ename": "NameError",
     "evalue": "name 'playlist_read_private' is not defined",
     "output_type": "error",
     "traceback": [
      "\u001b[1;31m---------------------------------------------------------------------------\u001b[0m",
      "\u001b[1;31mNameError\u001b[0m                                 Traceback (most recent call last)",
      "\u001b[1;32mc:\\Users\\saket\\Documents\\GitHub\\Pyhton\\Project Music\\spotify api\\main.ipynb Cell 25\u001b[0m in \u001b[0;36m<cell line: 2>\u001b[1;34m()\u001b[0m\n\u001b[0;32m      <a href='vscode-notebook-cell:/c%3A/Users/saket/Documents/GitHub/Pyhton/Project%20Music/spotify%20api/main.ipynb#X31sZmlsZQ%3D%3D?line=0'>1</a>\u001b[0m \u001b[39m# get the uers's playlists\u001b[39;00m\n\u001b[1;32m----> <a href='vscode-notebook-cell:/c%3A/Users/saket/Documents/GitHub/Pyhton/Project%20Music/spotify%20api/main.ipynb#X31sZmlsZQ%3D%3D?line=1'>2</a>\u001b[0m user_playlists \u001b[39m=\u001b[39m get_user_playlists(playlist_read_private)\n",
      "\u001b[1;31mNameError\u001b[0m: name 'playlist_read_private' is not defined"
     ]
    }
   ],
   "source": [
    "# get the uers's playlists\n",
    "user_playlists = get_user_playlists(playlist_read_private)"
   ]
  },
  {
   "cell_type": "code",
   "execution_count": 28,
   "metadata": {},
   "outputs": [
    {
     "name": "stdout",
     "output_type": "stream",
     "text": [
      "href\n",
      "items\n",
      "limit\n",
      "next\n",
      "offset\n",
      "previous\n",
      "total\n"
     ]
    }
   ],
   "source": [
    "for i in user_playlists:\n",
    "    print(i)"
   ]
  },
  {
   "cell_type": "code",
   "execution_count": 13,
   "metadata": {},
   "outputs": [],
   "source": [
    "# function read the most recently made playlist\n",
    "def read_most_recent_playlist():\n",
    "    playlists_list = get_user_playlists_info()\n",
    "    # arrange the playlists by date\n",
    "    playlists_list.sort(key=lambda x: x['playlist_id'], reverse=True)\n",
    "\n",
    "\n"
   ]
  },
  {
   "cell_type": "code",
   "execution_count": 102,
   "metadata": {},
   "outputs": [],
   "source": [
    "# location of the folder to store the data\n",
    "\n",
    "\n",
    "\n",
    "# # get the top 50 tracks played by the user\n",
    "# def get_top_tracks(token):\n",
    "#     top_tracks = token.current_user_top_tracks(limit=50)\n",
    "#     return top_tracks\n"
   ]
  },
  {
   "cell_type": "code",
   "execution_count": 4,
   "metadata": {},
   "outputs": [
    {
     "ename": "NameError",
     "evalue": "name 'recently_played' is not defined",
     "output_type": "error",
     "traceback": [
      "\u001b[1;31m---------------------------------------------------------------------------\u001b[0m",
      "\u001b[1;31mNameError\u001b[0m                                 Traceback (most recent call last)",
      "\u001b[1;32mc:\\Users\\saket\\Documents\\GitHub\\Pyhton\\Project Music\\spotify api\\main.ipynb Cell 7\u001b[0m in \u001b[0;36m<cell line: 34>\u001b[1;34m()\u001b[0m\n\u001b[0;32m     <a href='vscode-notebook-cell:/c%3A/Users/saket/Documents/GitHub/Pyhton/Project%20Music/spotify%20api/main.ipynb#W5sZmlsZQ%3D%3D?line=30'>31</a>\u001b[0m             old_recently_played_tracks\u001b[39m.\u001b[39mto_csv(recently_played_file_path, index\u001b[39m=\u001b[39m\u001b[39mFalse\u001b[39;00m)\n\u001b[0;32m     <a href='vscode-notebook-cell:/c%3A/Users/saket/Documents/GitHub/Pyhton/Project%20Music/spotify%20api/main.ipynb#W5sZmlsZQ%3D%3D?line=31'>32</a>\u001b[0m             \u001b[39mbreak\u001b[39;00m\n\u001b[1;32m---> <a href='vscode-notebook-cell:/c%3A/Users/saket/Documents/GitHub/Pyhton/Project%20Music/spotify%20api/main.ipynb#W5sZmlsZQ%3D%3D?line=33'>34</a>\u001b[0m store_recently_played_tracks()\n",
      "\u001b[1;32mc:\\Users\\saket\\Documents\\GitHub\\Pyhton\\Project Music\\spotify api\\main.ipynb Cell 7\u001b[0m in \u001b[0;36mstore_recently_played_tracks\u001b[1;34m()\u001b[0m\n\u001b[0;32m      <a href='vscode-notebook-cell:/c%3A/Users/saket/Documents/GitHub/Pyhton/Project%20Music/spotify%20api/main.ipynb#W5sZmlsZQ%3D%3D?line=4'>5</a>\u001b[0m \u001b[39mdef\u001b[39;00m \u001b[39mstore_recently_played_tracks\u001b[39m():\n\u001b[1;32m----> <a href='vscode-notebook-cell:/c%3A/Users/saket/Documents/GitHub/Pyhton/Project%20Music/spotify%20api/main.ipynb#W5sZmlsZQ%3D%3D?line=5'>6</a>\u001b[0m     recently_played_tracks \u001b[39m=\u001b[39m get_recently_played_tracks_info(recently_played)\n\u001b[0;32m      <a href='vscode-notebook-cell:/c%3A/Users/saket/Documents/GitHub/Pyhton/Project%20Music/spotify%20api/main.ipynb#W5sZmlsZQ%3D%3D?line=6'>7</a>\u001b[0m     \u001b[39m# create a dataframe from the list of recently played tracks\u001b[39;00m\n\u001b[0;32m      <a href='vscode-notebook-cell:/c%3A/Users/saket/Documents/GitHub/Pyhton/Project%20Music/spotify%20api/main.ipynb#W5sZmlsZQ%3D%3D?line=7'>8</a>\u001b[0m     recently_played_file_path \u001b[39m=\u001b[39m os\u001b[39m.\u001b[39mpath\u001b[39m.\u001b[39mjoin(data_folder, recently_played_file_name)\n",
      "\u001b[1;31mNameError\u001b[0m: name 'recently_played' is not defined"
     ]
    }
   ],
   "source": [
    "data_folder = r\"C:\\Users\\saket\\Documents\\1.MY_DATA\\spotify\\spotify api data\"\n",
    "recently_played_file_name = 'recently_played_tracks.csv'\n",
    "\n",
    "# function to add the recently played tracks in a csv file\n",
    "def store_recently_played_tracks():\n",
    "    recently_played_tracks = get_recently_played_tracks_info(recently_played)\n",
    "    # create a dataframe from the list of recently played tracks\n",
    "    recently_played_file_path = os.path.join(data_folder, recently_played_file_name)\n",
    "    old_recently_played_tracks = pd.read_csv(recently_played_file_path)\n",
    "    new_recently_played_tracks = pd.DataFrame(recently_played_tracks)\n",
    "    # get the last played track from the old_recently_played_tracks\n",
    "    last_played_at = old_recently_played_tracks['played_at'].iloc[-1]\n",
    "    # reverse the new_recently_played_tracks\n",
    "    new_recently_played_tracks = new_recently_played_tracks.iloc[::-1]\n",
    "\n",
    "    # iterate though all the new_recently_played_tracks and find the one which is closest to the last_played_at\n",
    "    for i in range(len(new_recently_played_tracks)):\n",
    "        # get the difference between the last_played_at and the current track's played_at in hours\n",
    "        diff = (timestamp_to_time(last_played_at) - timestamp_to_time(new_recently_played_tracks['played_at'].iloc[i])).total_seconds() / 3600\n",
    "        # print(diff, new_recently_played_tracks['track_name'].iloc[i])\n",
    "        # if the difference is negative, then the current track is the one which was last played\n",
    "        if diff < 0:\n",
    "            # get the index of the new_recently_played_tracks\n",
    "            index = i\n",
    "            # start the new_recently_played_tracks from the index\n",
    "            new_recently_played_tracks = new_recently_played_tracks.iloc[index:]\n",
    "            # print(new_recently_played_tracks['track_name'].iloc[index])\n",
    "                # add the new_recently_played_tracks to the old_recently_played_tracks, use .concat() to avoid the index being repeated\n",
    "            old_recently_played_tracks = pd.concat([old_recently_played_tracks, new_recently_played_tracks])\n",
    "            # save the old_recently_played_tracks to the csv file\n",
    "            old_recently_played_tracks.to_csv(recently_played_file_path, index=False)\n",
    "            break\n",
    "\n",
    "store_recently_played_tracks()\n",
    "\n"
   ]
  },
  {
   "cell_type": "code",
   "execution_count": null,
   "metadata": {},
   "outputs": [],
   "source": []
  },
  {
   "cell_type": "code",
   "execution_count": null,
   "metadata": {},
   "outputs": [],
   "source": []
  },
  {
   "cell_type": "code",
   "execution_count": null,
   "metadata": {},
   "outputs": [],
   "source": []
  },
  {
   "cell_type": "code",
   "execution_count": null,
   "metadata": {},
   "outputs": [],
   "source": []
  },
  {
   "cell_type": "code",
   "execution_count": null,
   "metadata": {},
   "outputs": [],
   "source": []
  },
  {
   "cell_type": "code",
   "execution_count": null,
   "metadata": {},
   "outputs": [
    {
     "name": "stdout",
     "output_type": "stream",
     "text": [
      "5\n"
     ]
    }
   ],
   "source": [
    "# import datetime\n",
    "import datetime\n",
    "\n",
    "# get all the useful information from the recently played tracks\n",
    "def get_recently_played_tracks_info(recently_played):\n",
    "    recently_played_tracks = []\n",
    "    recently_played_token = get_spotify_token(\"user-read-recently-played\")\n",
    "    recently_played = get_recently_played_tracks(recently_played_token)\n",
    "    for i in range(len(recently_played['items'])):\n",
    "        track = recently_played['items'][i]['track']\n",
    "        track_info = {\n",
    "            'track_name': track['name'],\n",
    "            'track_id': track['id'],\n",
    "            'track_duration': track['duration_ms'],\n",
    "            'track_popularity': track['popularity'],\n",
    "            'track_explicit': track['explicit'],\n",
    "            'album_name': track['album']['name'],\n",
    "            'album_id': track['album']['id'],\n",
    "            'album_release_date': track['album']['release_date'],\n",
    "            'album_release_date_precision': track['album']['release_date_precision'],\n",
    "            'album_total_tracks': track['album']['total_tracks'],\n",
    "            'album_type': track['album']['album_type'],\n",
    "            'artist_name': track['artists'][0]['name'],\n",
    "            'artist_id': track['artists'][0]['id'],\n",
    "            'played_at': recently_played['items'][i]['played_at']\n",
    "        }\n",
    "        # song name\n",
    "        song_name = track['name']\n",
    "        print(recently_played['items'][i]['played_at'], song_name)\n",
    "\n",
    "\n",
    "\n",
    "        recently_played_tracks.append(track_info)\n",
    "    return recently_played_tracks\n",
    "\n",
    "# def store_recently_played_tracks():\n",
    "    recently_played_tracks = get_recently_played_tracks_info(recently_played)\n",
    "    # create a dataframe from the list of recently played tracks\n",
    "    # recently_played_file_path = os.path.join(data_folder, recently_played_file_name)\n",
    "    old_recently_played_tracks = pd.read_csv(recently_played_file_name)\n",
    "    new_recently_played_tracks = pd.DataFrame(recently_played_tracks)\n",
    "    # get the last played track from the old_recently_played_tracks\n",
    "    last_played_at = old_recently_played_tracks['played_at'].iloc[-1]\n",
    "    # reverse the new_recently_played_tracks\n",
    "    new_recently_played_tracks = new_recently_played_tracks.iloc[::-1]\n",
    "\n",
    "    # iterate though all the new_recently_played_tracks and find the one which is closest to the last_played_at\n",
    "    for i in range(len(new_recently_played_tracks)):\n",
    "        # get the difference between the last_played_at and the current track's played_at in hours\n",
    "        diff = (timestamp_to_time(last_played_at) - timestamp_to_time(new_recently_played_tracks['played_at'].iloc[i])).total_seconds() / 3600\n",
    "        # print(diff, new_recently_played_tracks['track_name'].iloc[i])\n",
    "        # if the difference is negative, then the current track is the one which was last played\n",
    "        if diff < 0:\n",
    "            # get the index of the new_recently_played_tracks\n",
    "            index = i\n",
    "            # start the new_recently_played_tracks from the index\n",
    "            new_recently_played_tracks = new_recently_played_tracks.iloc[index:]\n",
    "            # print(new_recently_played_tracks['track_name'].iloc[index])\n",
    "                # add the new_recently_played_tracks to the old_recently_played_tracks, use .concat() to avoid the index being repeated\n",
    "            old_recently_played_tracks = pd.concat([old_recently_played_tracks, new_recently_played_tracks])\n",
    "            # save the old_recently_played_tracks to the csv file\n",
    "            old_recently_played_tracks.to_csv(recently_played_file_path, index=False)\n",
    "            break\n",
    "\n",
    "\n",
    "    # # iterate through all the library tracks\n",
    "    # for i in range(len(library['items'])):\n",
    "    #     # get the track\n",
    "    #     track = library['items'][i]['track']\n",
    "    #     # get the track info\n",
    "    #     track_info = {\n",
    "    #         'track_name': track['name'],\n",
    "    #         'track_id': track['id'],\n",
    "    #         'track_duration': track['duration_ms'],\n",
    "    #         'track_popularity': track['popularity'],\n",
    "    #         'track_explicit': track['explicit'],\n",
    "    #         'album_name': track['album']['name'],\n",
    "    #         'album_id': track['album']['id'],\n",
    "    #         'album_release_date': track['album']['release_date'],\n",
    "    #         'album_release_date_precision': track['album']['release_date_precision'],\n",
    "    #         'album_total_tracks': track['album']['total_tracks'],\n",
    "    #         'album_type': track['album']['album_type'],\n",
    "    #         'artist_name': track['artists'][0]['name'],\n",
    "    #         'artist_id': track['artists'][0]['id']\n",
    "    #     }\n",
    "    #     # add the track info to the library info\n",
    "    #     library_info.append(track_info)\n"
   ]
  },
  {
   "cell_type": "code",
   "execution_count": null,
   "metadata": {},
   "outputs": [
    {
     "data": {
      "text/plain": [
       "1678126686.844148"
      ]
     },
     "execution_count": 48,
     "metadata": {},
     "output_type": "execute_result"
    }
   ],
   "source": [
    "time.time()"
   ]
  },
  {
   "cell_type": "code",
   "execution_count": null,
   "metadata": {},
   "outputs": [
    {
     "name": "stdout",
     "output_type": "stream",
     "text": [
      "Oxygen\n",
      "Hunter\n",
      "Toxicity\n",
      "Mother of the World\n",
      "Screen Shot\n",
      "Lunacy\n",
      "The Blacker The Berry\n",
      "Messenger\n",
      "Simulation Swarm\n",
      "Hey Jane\n",
      "Song Against Sex\n",
      "She Loves Us\n",
      "Hacker\n",
      "She Loves Us\n",
      "Nosferatu Man\n",
      "Oxygen\n",
      "Mladic\n",
      "Mladic\n",
      "Mladic\n",
      "IGOR'S THEME\n",
      "Flume\n",
      "Punkero Sonidero\n",
      "money machine\n",
      "1539 N. Calvert\n",
      "Helplessness Blues\n",
      "Mladic\n",
      "The Black Hawk War, Or, How to Demolish an Entire Civilization and Still Feel Good About Yourself In the Morning, Or, We Apologize for the Inconvenience But You're Going to Have to Leave Now, Or...\n",
      "Concerning the UFO sighting near Highland, Illinois\n",
      "King of Carrot Flowers Pts. 2 & 3\n",
      "A short reprise for Mary Todd, who went insane, but for very good reasons\n",
      "Jacksonville\n",
      "John Wayne Gacy, Jr.\n",
      "Come On! Feel the Illinoise! Part I: The World's Columbian Exposition Part II: Carl Sandburg Visits Me In A Dream\n",
      "The Black Hawk War, Or, How to Demolish an Entire Civilization and Still Feel Good About Yourself In the Morning, Or, We Apologize for the Inconvenience But You're Going to Have to Leave Now, Or...\n",
      "Ghost\n",
      "[untitled]\n",
      "Holland, 1945\n",
      "Communist Daughter\n",
      "The Fool\n",
      "Two-Headed Boy\n",
      "In the Aeroplane Over the Sea\n",
      "King of Carrot Flowers Pts. 2 & 3\n",
      "King of Carrot Flowers Pts. 2 & 3\n",
      "John Wayne Gacy, Jr.\n",
      "Come On! Feel the Illinoise! Part I: The World's Columbian Exposition Part II: Carl Sandburg Visits Me In A Dream\n",
      "King of Carrot Flowers Pts. 2 & 3\n",
      "The Black Hawk War, Or, How to Demolish an Entire Civilization and Still Feel Good About Yourself In the Morning, Or, We Apologize for the Inconvenience But You're Going to Have to Leave Now, Or...\n",
      "Concerning the UFO sighting near Highland, Illinois\n",
      "where we break how we shine (ROCKETS FOR MARY)\n",
      "Concerning the UFO sighting near Highland, Illinois\n"
     ]
    }
   ],
   "source": [
    "# iterate through the first history item and print the track name\n",
    "for item in history['items']:\n",
    "    track = item['track']\n",
    "    print(track['name'])"
   ]
  }
 ],
 "metadata": {
  "kernelspec": {
   "display_name": "base",
   "language": "python",
   "name": "python3"
  },
  "language_info": {
   "codemirror_mode": {
    "name": "ipython",
    "version": 3
   },
   "file_extension": ".py",
   "mimetype": "text/x-python",
   "name": "python",
   "nbconvert_exporter": "python",
   "pygments_lexer": "ipython3",
   "version": "3.9.12"
  },
  "orig_nbformat": 4
 },
 "nbformat": 4,
 "nbformat_minor": 2
}
